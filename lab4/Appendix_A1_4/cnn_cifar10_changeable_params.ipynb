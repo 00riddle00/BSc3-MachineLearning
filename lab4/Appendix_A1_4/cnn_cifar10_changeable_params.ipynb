{
 "cells": [
  {
   "cell_type": "markdown",
   "metadata": {
    "gradient": {
     "editing": false
    }
   },
   "source": [
    "# CNN for CIFAR10 with Tensorflow 2"
   ]
  },
  {
   "cell_type": "markdown",
   "metadata": {
    "gradient": {
     "editing": false
    },
    "id": "m7KBpffWzlxH"
   },
   "source": [
    "### Import TensorFlow"
   ]
  },
  {
   "cell_type": "code",
   "execution_count": 1,
   "metadata": {
    "gradient": {},
    "id": "iAve6DCL4JH4"
   },
   "outputs": [
    {
     "name": "stdout",
     "output_type": "stream",
     "text": [
      "2.4.1\n"
     ]
    }
   ],
   "source": [
    "# TensorFlow and tf.keras\n",
    "import tensorflow as tf\n",
    "# from tensorflow.keras import datasets, layers, models\n",
    "\n",
    "# Helper libraries\n",
    "import matplotlib.pyplot as plt\n",
    "import numpy as np\n",
    "\n",
    "print(tf.__version__)"
   ]
  },
  {
   "cell_type": "markdown",
   "metadata": {
    "gradient": {
     "editing": false
    },
    "id": "jRFxccghyMVo"
   },
   "source": [
    "### Download and prepare the CIFAR-10 dataset"
   ]
  },
  {
   "cell_type": "code",
   "execution_count": 2,
   "metadata": {
    "gradient": {},
    "id": "JWoEqyMuXFF4",
    "scrolled": true
   },
   "outputs": [],
   "source": [
    "# Import and load the CIFAR-10 data directly from tf.keras\n",
    "(train_images, train_labels), (test_images, test_labels) = tf.keras.datasets.cifar10.load_data()"
   ]
  },
  {
   "cell_type": "code",
   "execution_count": 3,
   "metadata": {
    "gradient": {}
   },
   "outputs": [],
   "source": [
    "class_names = ['Airplane', 'Automobile', 'Bird', 'Cat', 'Deer',\n",
    "               'Dog', 'Frog', 'Horse', 'Ship', 'Truck']"
   ]
  },
  {
   "cell_type": "markdown",
   "metadata": {
    "gradient": {
     "editing": false
    }
   },
   "source": [
    "### Explore the data"
   ]
  },
  {
   "cell_type": "code",
   "execution_count": 4,
   "metadata": {
    "gradient": {}
   },
   "outputs": [
    {
     "data": {
      "text/plain": [
       "(50000, 32, 32, 3)"
      ]
     },
     "execution_count": 4,
     "metadata": {},
     "output_type": "execute_result"
    }
   ],
   "source": [
    "train_images.shape"
   ]
  },
  {
   "cell_type": "code",
   "execution_count": 5,
   "metadata": {
    "gradient": {}
   },
   "outputs": [
    {
     "data": {
      "text/plain": [
       "50000"
      ]
     },
     "execution_count": 5,
     "metadata": {},
     "output_type": "execute_result"
    }
   ],
   "source": [
    "len(train_labels)"
   ]
  },
  {
   "cell_type": "code",
   "execution_count": 6,
   "metadata": {
    "gradient": {}
   },
   "outputs": [
    {
     "data": {
      "text/plain": [
       "array([[6],\n",
       "       [9],\n",
       "       [9],\n",
       "       ...,\n",
       "       [9],\n",
       "       [1],\n",
       "       [1]], dtype=uint8)"
      ]
     },
     "execution_count": 6,
     "metadata": {},
     "output_type": "execute_result"
    }
   ],
   "source": [
    "train_labels"
   ]
  },
  {
   "cell_type": "code",
   "execution_count": 7,
   "metadata": {
    "gradient": {}
   },
   "outputs": [
    {
     "data": {
      "text/plain": [
       "(10000, 32, 32, 3)"
      ]
     },
     "execution_count": 7,
     "metadata": {},
     "output_type": "execute_result"
    }
   ],
   "source": [
    "test_images.shape"
   ]
  },
  {
   "cell_type": "code",
   "execution_count": 8,
   "metadata": {
    "gradient": {}
   },
   "outputs": [
    {
     "data": {
      "text/plain": [
       "10000"
      ]
     },
     "execution_count": 8,
     "metadata": {},
     "output_type": "execute_result"
    }
   ],
   "source": [
    "len(test_labels)"
   ]
  },
  {
   "cell_type": "markdown",
   "metadata": {},
   "source": [
    "### Preprocess the data"
   ]
  },
  {
   "cell_type": "code",
   "execution_count": 9,
   "metadata": {
    "gradient": {}
   },
   "outputs": [],
   "source": [
    "train_images, test_images = train_images / 255.0, test_images / 255.0"
   ]
  },
  {
   "cell_type": "markdown",
   "metadata": {},
   "source": [
    "## Build the model"
   ]
  },
  {
   "cell_type": "markdown",
   "metadata": {},
   "source": [
    "#### Set up parameters"
   ]
  },
  {
   "cell_type": "code",
   "execution_count": 10,
   "metadata": {
    "scrolled": true
   },
   "outputs": [],
   "source": [
    "param_epoch_count = 20\n",
    "param_batch_size = 32\n",
    "param_act_fn = 'relu'\n",
    "param_optimizer = 'adam'\n",
    "param_loss_fn = tf.keras.losses.SparseCategoricalCrossentropy(from_logits=True)"
   ]
  },
  {
   "cell_type": "markdown",
   "metadata": {},
   "source": [
    "#### Set up architecture"
   ]
  },
  {
   "cell_type": "code",
   "execution_count": 11,
   "metadata": {
    "gradient": {},
    "scrolled": true
   },
   "outputs": [],
   "source": [
    "model = tf.keras.Sequential()\n",
    "\n",
    "#### Create the convolutional base\n",
    "model.add(tf.keras.layers.Conv2D(32, (3, 3), activation=param_act_fn, input_shape=(32, 32, 3)))\n",
    "model.add(tf.keras.layers.MaxPooling2D((2, 2)))\n",
    "model.add(tf.keras.layers.Conv2D(64, (3, 3), activation=param_act_fn))\n",
    "model.add(tf.keras.layers.MaxPooling2D((2, 2)))\n",
    "model.add(tf.keras.layers.Conv2D(64, (3, 3), activation=param_act_fn))\n",
    "\n",
    "#### Add Dense layers on top\n",
    "model.add(tf.keras.layers.Flatten())\n",
    "model.add(tf.keras.layers.Dense(64, activation=param_act_fn))\n",
    "model.add(tf.keras.layers.Dense(10))"
   ]
  },
  {
   "cell_type": "code",
   "execution_count": 12,
   "metadata": {},
   "outputs": [
    {
     "name": "stdout",
     "output_type": "stream",
     "text": [
      "Model: \"sequential\"\n",
      "_________________________________________________________________\n",
      "Layer (type)                 Output Shape              Param #   \n",
      "=================================================================\n",
      "conv2d (Conv2D)              (None, 30, 30, 32)        896       \n",
      "_________________________________________________________________\n",
      "max_pooling2d (MaxPooling2D) (None, 15, 15, 32)        0         \n",
      "_________________________________________________________________\n",
      "conv2d_1 (Conv2D)            (None, 13, 13, 64)        18496     \n",
      "_________________________________________________________________\n",
      "max_pooling2d_1 (MaxPooling2 (None, 6, 6, 64)          0         \n",
      "_________________________________________________________________\n",
      "conv2d_2 (Conv2D)            (None, 4, 4, 64)          36928     \n",
      "_________________________________________________________________\n",
      "flatten (Flatten)            (None, 1024)              0         \n",
      "_________________________________________________________________\n",
      "dense (Dense)                (None, 64)                65600     \n",
      "_________________________________________________________________\n",
      "dense_1 (Dense)              (None, 10)                650       \n",
      "=================================================================\n",
      "Total params: 122,570\n",
      "Trainable params: 122,570\n",
      "Non-trainable params: 0\n",
      "_________________________________________________________________\n"
     ]
    }
   ],
   "source": [
    "model.summary()"
   ]
  },
  {
   "cell_type": "markdown",
   "metadata": {},
   "source": [
    "#### Compile the model"
   ]
  },
  {
   "cell_type": "code",
   "execution_count": 13,
   "metadata": {
    "gradient": {}
   },
   "outputs": [],
   "source": [
    "model.compile(optimizer=param_optimizer,\n",
    "              loss=param_loss_fn,\n",
    "              metrics=['accuracy'])"
   ]
  },
  {
   "cell_type": "markdown",
   "metadata": {},
   "source": [
    "### Train the model"
   ]
  },
  {
   "cell_type": "code",
   "execution_count": 14,
   "metadata": {},
   "outputs": [
    {
     "name": "stdout",
     "output_type": "stream",
     "text": [
      "Epoch 1/20\n",
      "1563/1563 [==============================] - 10s 5ms/step - loss: 1.7880 - accuracy: 0.3366 - val_loss: 1.2610 - val_accuracy: 0.5515\n",
      "Epoch 2/20\n",
      "1563/1563 [==============================] - 6s 4ms/step - loss: 1.2029 - accuracy: 0.5720 - val_loss: 1.1205 - val_accuracy: 0.6004\n",
      "Epoch 3/20\n",
      "1563/1563 [==============================] - 7s 4ms/step - loss: 1.0284 - accuracy: 0.6396 - val_loss: 1.1308 - val_accuracy: 0.5980\n",
      "Epoch 4/20\n",
      "1563/1563 [==============================] - 7s 4ms/step - loss: 0.9347 - accuracy: 0.6714 - val_loss: 0.9813 - val_accuracy: 0.6534\n",
      "Epoch 5/20\n",
      "1563/1563 [==============================] - 6s 4ms/step - loss: 0.8393 - accuracy: 0.7060 - val_loss: 0.9205 - val_accuracy: 0.6776\n",
      "Epoch 6/20\n",
      "1563/1563 [==============================] - 7s 4ms/step - loss: 0.7863 - accuracy: 0.7228 - val_loss: 0.8681 - val_accuracy: 0.6915\n",
      "Epoch 7/20\n",
      "1563/1563 [==============================] - 7s 4ms/step - loss: 0.7434 - accuracy: 0.7378 - val_loss: 0.8796 - val_accuracy: 0.7000\n",
      "Epoch 8/20\n",
      "1563/1563 [==============================] - 7s 4ms/step - loss: 0.6895 - accuracy: 0.7590 - val_loss: 0.8425 - val_accuracy: 0.7123\n",
      "Epoch 9/20\n",
      "1563/1563 [==============================] - 7s 4ms/step - loss: 0.6442 - accuracy: 0.7745 - val_loss: 0.8834 - val_accuracy: 0.7006\n",
      "Epoch 10/20\n",
      "1563/1563 [==============================] - 7s 4ms/step - loss: 0.6098 - accuracy: 0.7853 - val_loss: 0.9849 - val_accuracy: 0.6832\n",
      "Epoch 11/20\n",
      "1563/1563 [==============================] - 7s 4ms/step - loss: 0.5808 - accuracy: 0.7946 - val_loss: 0.8866 - val_accuracy: 0.7071\n",
      "Epoch 12/20\n",
      "1563/1563 [==============================] - 7s 4ms/step - loss: 0.5343 - accuracy: 0.8119 - val_loss: 0.9037 - val_accuracy: 0.7011\n",
      "Epoch 13/20\n",
      "1563/1563 [==============================] - 7s 4ms/step - loss: 0.5143 - accuracy: 0.8192 - val_loss: 0.9136 - val_accuracy: 0.7098\n",
      "Epoch 14/20\n",
      "1563/1563 [==============================] - 7s 4ms/step - loss: 0.4843 - accuracy: 0.8299 - val_loss: 0.9386 - val_accuracy: 0.7079\n",
      "Epoch 15/20\n",
      "1563/1563 [==============================] - 6s 4ms/step - loss: 0.4499 - accuracy: 0.8417 - val_loss: 0.9476 - val_accuracy: 0.7090\n",
      "Epoch 16/20\n",
      "1563/1563 [==============================] - 7s 4ms/step - loss: 0.4225 - accuracy: 0.8488 - val_loss: 0.9687 - val_accuracy: 0.7073\n",
      "Epoch 17/20\n",
      "1563/1563 [==============================] - 6s 4ms/step - loss: 0.4068 - accuracy: 0.8562 - val_loss: 1.0367 - val_accuracy: 0.6992\n",
      "Epoch 18/20\n",
      "1563/1563 [==============================] - 7s 4ms/step - loss: 0.3686 - accuracy: 0.8697 - val_loss: 1.0328 - val_accuracy: 0.7099\n",
      "Epoch 19/20\n",
      "1563/1563 [==============================] - 7s 4ms/step - loss: 0.3538 - accuracy: 0.8733 - val_loss: 1.0831 - val_accuracy: 0.7040\n",
      "Epoch 20/20\n",
      "1563/1563 [==============================] - 7s 4ms/step - loss: 0.3331 - accuracy: 0.8817 - val_loss: 1.1210 - val_accuracy: 0.6988\n"
     ]
    }
   ],
   "source": [
    "history = model.fit(train_images, train_labels, batch_size=32, epochs=param_epoch_count, validation_data=(test_images, test_labels))"
   ]
  },
  {
   "cell_type": "markdown",
   "metadata": {},
   "source": [
    "### Evaluate the model"
   ]
  },
  {
   "cell_type": "code",
   "execution_count": 20,
   "metadata": {
    "gradient": {}
   },
   "outputs": [
    {
     "data": {
      "text/plain": [
       "<matplotlib.legend.Legend at 0x7f01776b5b70>"
      ]
     },
     "execution_count": 20,
     "metadata": {},
     "output_type": "execute_result"
    },
    {
     "data": {
      "image/png": "[encoded data removed]",
      "text/plain": [
       "<Figure size 1332x756 with 1 Axes>"
      ]
     },
     "metadata": {
      "needs_background": "light"
     },
     "output_type": "display_data"
    }
   ],
   "source": [
    "fig, ax = plt.subplots()\n",
    "fig.set_size_inches(18.5, 10.5)\n",
    "\n",
    "ax.xaxis.set_ticks(np.arange(0, param_epoch_count+1))\n",
    "ax.yaxis.set_ticks(np.arange(0, 1.1, 0.1))\n",
    "ax.grid()\n",
    "\n",
    "train_acc = history.history['accuracy']\n",
    "test_acc = history.history['val_accuracy']\n",
    "\n",
    "color_train='#238ef0'\n",
    "color_test='#01b1b3'\n",
    "\n",
    "plt.rcParams.update({'font.size': 18})\n",
    "\n",
    "plt.plot(np.arange(1,param_epoch_count+1), train_acc, label='Mokymo', c=color_train, linewidth=4)\n",
    "plt.plot(np.arange(1,param_epoch_count+1), test_acc, label='Testavimo', c=color_test, linewidth=4)\n",
    "\n",
    "plt.plot(param_epoch_count, train_acc[-1],'co', c=color_train, markersize=15)\n",
    "plt.text(param_epoch_count, train_acc[-1], \"{:.4f}\".format(train_acc[-1]), c=color_train)\n",
    "\n",
    "plt.plot(param_epoch_count, test_acc[-1], 'co', c=color_test, markersize=15)\n",
    "plt.text(param_epoch_count, test_acc[-1], \"{:.4f}\".format(test_acc[-1]), c=color_test)\n",
    "\n",
    "plt.xlabel('Epochos', fontsize=18)\n",
    "plt.ylabel('Klasifikavimo tikslumas', fontsize=18)\n",
    "\n",
    "plt.xlim([1, param_epoch_count])\n",
    "plt.ylim([0.0, 1.0])\n",
    "\n",
    "plt.legend(loc='lower right')"
   ]
  }
 ],
 "metadata": {
  "accelerator": "GPU",
  "colab": {
   "collapsed_sections": [],
   "name": "cnn.ipynb",
   "toc_visible": true
  },
  "kernelspec": {
   "display_name": "Python 3",
   "language": "python",
   "name": "python3"
  },
  "language_info": {
   "codemirror_mode": {
    "name": "ipython",
    "version": 3
   },
   "file_extension": ".py",
   "mimetype": "text/x-python",
   "name": "python",
   "nbconvert_exporter": "python",
   "pygments_lexer": "ipython3",
   "version": "3.6.9"
  }
 },
 "nbformat": 4,
 "nbformat_minor": 1
}
